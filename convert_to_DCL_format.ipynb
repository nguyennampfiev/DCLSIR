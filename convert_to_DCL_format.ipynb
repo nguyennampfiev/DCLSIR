{
 "cells": [
  {
   "cell_type": "code",
   "execution_count": 12,
   "id": "87f57c62",
   "metadata": {
    "scrolled": true
   },
   "outputs": [
    {
     "name": "stdout",
     "output_type": "stream",
     "text": [
      "['0', 'N°114 1a seal.png; N°101 6a seal.png; N°378 2b.png; N°289 1b sceau.png; N°115 1a seal.png; N°111 1b seal.png; N°125 1b seal.png; N°120 3a seal.png; N°300 1b sceau4.png; N°97 9b-10s seal.png; N°112 1b seal.png; N°315 1b sceau1.png; N°342 6a sceau.png; N°392 8b.png; N°131 1b seal.png; N°474 1b sceau1.png']\n",
      "['1', 'N°446 3a.png; N°302 3b sceau.png; N°388 5b.png']\n",
      "['2', 'N°338 3b sceau.png; N°300 2a sceau2.png']\n",
      "['3', 'N°453 1b sceau2.png; N°320 1b sceau1.png']\n",
      "['4', 'N°316 12b sceau3.png; N°316 10b sceau3.png; N°316 5b sceau3.png; N°313 1b sceau3.png; N°399 1b sceau2.png; N°128 4a seal.png; N°326 1b sceau3.png']\n",
      "['5', 'N°356 1b.png; N°356 7b sceau.png']\n",
      "['6', 'N°435 1b.png; N°411 1b.png; N°434 1b.png; N°135 4b-5a seal.png; N°135 2b-3a seal.png']\n",
      "['7', 'N°100 1b seal.png']\n",
      "['8', 'N°280 2a sceau3.png']\n",
      "['9', 'N°297 1b sceau2.png; N°459 1a.png; N°349 1b sceau1.png']\n",
      "['10', 'N°426 5a.png']\n",
      "['11', 'N°429 6b.png; N°117 5b seal.png; N°139 9b seal.png']\n",
      "['12', 'N°408 2b.png; N°308 10a sceau.png; N°308 9a sceau1.png']\n",
      "['13', 'N°329 1b s<ceau1.png; N°329 3b sceau1.png; N°329 4b sceau2.png; N°370 33a.png; N°310 1b sceau1.png; N°310 2b sceau1.png; N°431 6b.png; N°317 1b sceau1.png; N°399 5b sceau1.png; N°310 3b sceau1.png']\n",
      "['14', 'N°336 2b sceau.png; N°333 7b sceau.png']\n",
      "['15', 'N°419 3a.png']\n",
      "['16', 'N°328 2b sceau1.png; N°328 4b sceau1.png']\n",
      "['18 ', 'N°458 1b sceau1.png; N°137 3a seal.png; N°316 2b sceau1.png; N°316 4b sceau1.png; N°316 10b sceau1.png; N°321 1b sceau1.png; N°316 8b sceau1.png; N°313 1b sceau1.png; N°316 12b sceau1.png; N°316 13b sceau1.png']\n",
      "['19', 'N°426 3a.png; N°426 2a.png; N°426 1a.png']\n",
      "['20', 'N°428 4b.png']\n",
      "['21 ', 'N°329 1b sceau3.png; N°317 1b sceau3.png; N°312 1b sceau3.png; N°399 5b sceau2.png; N°310 1a sceau.png; N°370 31b sceau.png; N°447 1b sceau1.png; N°285 1b sceau2.png; N°292 1b sceau2.png']\n",
      "['22', 'N°419 2b sceau2.png; N°419 2b sceau1.png; N°419 3a sceau1.png']\n",
      "['23', 'N°474 1b sceau2.png; N°324 1b sceau2.png']\n",
      "['24', 'N°329 4b sceau1.png; N°312 2b sceau1.png; N°312 4b sceau1.png; N°312 6b sceau1.png; N°447 1b sceau2.png; N°447 3b.png']\n",
      "['25', 'N°432 3a.png; N°432 3b.png; N0°432 5a.png']\n",
      "['26', 'N°133 5b seal.png; N°133 14a seal.png; N°133 16b seal.png']\n",
      "['27', 'N°133 16b seal bis.png']\n",
      "['28', 'N°317 1b sceau2.png; N°310 2b sceau2.png; N°312 2b sceau2.png; N°316 11b sceau2.png; N°316 4b sceau2.png; N°326 1b sceau2.png; N°313 1b sceau2.png; N°309 1b sceau3.png; N°316 8b sceau2.png; N°316 12b sceau2.png; N°399 5b sceau3.png; N°329 3b sceau2.png; N°292 1b sceau3.png; N°318 1b sceau2.png; N°315 1b sceau2.png; N°328 3b sceau2.png; N°285 1b sceau3.png; N°316 9b sceau2.png; N°328 2b sceau2.png; N°312 3b sceau2.png; N°325 1b sceau2.png; N°316 5b sceau2.png']\n",
      "['29', 'N°415 2b.png']\n",
      "['30', 'N°300 1b sceau3.png; N°300 1b sceau2.png']\n",
      "['31', 'N°475 16b.png; N°420 9b.png; N°420 13a.png; N°107 14a seal.png; N°475 13b-14a.png; N°475 10a.png; N°475 8b.png; N°420 8b.png; N°118 1b seal.png; N°413 10b-11a.png; N°420 7b.png; N°105 3b seal.png; N°96 1b seal.png; N°413 6b.png; N°98 11a seal.png; N°413 3b.png; N°475 8a.png; N°418 4b.png; N°124 1a seal.png; N°121 1b seal.png; N°122 1a seal.png; N°123 2a seal.png; N°374 1b.png']\n",
      "['32', 'N°312 5b sceau2.png; N°312 4b sceau2.png']\n",
      "['33', 'N°426 4b.png']\n",
      "['34', 'N°327 1b sceau2.png; N°328 4b sceau2.png']\n",
      "['35', 'N°426 1b.png']\n",
      "['36', 'N°426 5b.png']\n",
      "['37', 'N°390 1b.png; N°459 1b.png; N°390 1b sceau2.png; N°284 1b sceau2.png']\n",
      "['38', 'N°437 1b.png']\n",
      "['39', 'N°394 2b sceau.png; N°394 2b.png']\n",
      "['40', 'N°450 3b.png']\n",
      "['41', 'N°300 1b sceau4.png']\n",
      "['42', 'N°113 6a seal.png ']\n"
     ]
    }
   ],
   "source": [
    "def convert_format(input_file, output_file):\n",
    "    with open(input_file, 'r') as infile, open(output_file, 'w') as outfile:\n",
    "        # Read the input file line by line\n",
    "        for line in infile:\n",
    "            #print(line)\n",
    "            # Split the line into parts based on tabs\n",
    "            parts = line.rstrip('\\n').split('\\t')\n",
    "            print(parts)\n",
    "            label = parts[0].strip()  # Label (e.g., 0, 1)\n",
    "            images = parts[1].split(';')  # The list of image names\n",
    "            \n",
    "            # Write each image name followed by the label in the desired format\n",
    "            for image in images:\n",
    "                image = image.strip()\n",
    "                outfile.write(f\"{image}\\t{label}\\n\")\n",
    "\n",
    "# Example usage\n",
    "input_file = '../update_gt.txt'\n",
    "output_file = 'datasets/CHAM/anno/ct_test.txt'\n",
    "convert_format(input_file, output_file)\n"
   ]
  },
  {
   "cell_type": "code",
   "execution_count": 18,
   "id": "b691b972",
   "metadata": {},
   "outputs": [],
   "source": [
    "import pandas as pd\n",
    "import os"
   ]
  },
  {
   "cell_type": "code",
   "execution_count": 20,
   "id": "e3e55e4b",
   "metadata": {},
   "outputs": [],
   "source": [
    "t = pd.read_csv('datasets/CHAM/anno/ct_train.txt',sep=\"\\t\",header=None,names=['ImageName', 'label'],encoding='utf-8')"
   ]
  },
  {
   "cell_type": "code",
   "execution_count": 21,
   "id": "d3fca954",
   "metadata": {},
   "outputs": [
    {
     "data": {
      "text/html": [
       "<div>\n",
       "<style scoped>\n",
       "    .dataframe tbody tr th:only-of-type {\n",
       "        vertical-align: middle;\n",
       "    }\n",
       "\n",
       "    .dataframe tbody tr th {\n",
       "        vertical-align: top;\n",
       "    }\n",
       "\n",
       "    .dataframe thead th {\n",
       "        text-align: right;\n",
       "    }\n",
       "</style>\n",
       "<table border=\"1\" class=\"dataframe\">\n",
       "  <thead>\n",
       "    <tr style=\"text-align: right;\">\n",
       "      <th></th>\n",
       "      <th>ImageName</th>\n",
       "      <th>label</th>\n",
       "    </tr>\n",
       "  </thead>\n",
       "  <tbody>\n",
       "    <tr>\n",
       "      <th>0</th>\n",
       "      <td>N°185 4b-5a_1.jpg</td>\n",
       "      <td>0</td>\n",
       "    </tr>\n",
       "    <tr>\n",
       "      <th>1</th>\n",
       "      <td>N°185 4b-5a_1_0.jpg</td>\n",
       "      <td>0</td>\n",
       "    </tr>\n",
       "    <tr>\n",
       "      <th>2</th>\n",
       "      <td>N°185 4b-5a_1_1.jpg</td>\n",
       "      <td>0</td>\n",
       "    </tr>\n",
       "    <tr>\n",
       "      <th>3</th>\n",
       "      <td>N°185 4b-5a_1_2.jpg</td>\n",
       "      <td>0</td>\n",
       "    </tr>\n",
       "    <tr>\n",
       "      <th>4</th>\n",
       "      <td>N°185 4b-5a_1_3.jpg</td>\n",
       "      <td>0</td>\n",
       "    </tr>\n",
       "    <tr>\n",
       "      <th>...</th>\n",
       "      <td>...</td>\n",
       "      <td>...</td>\n",
       "    </tr>\n",
       "    <tr>\n",
       "      <th>609</th>\n",
       "      <td>N°459 1b_5.jpg</td>\n",
       "      <td>52</td>\n",
       "    </tr>\n",
       "    <tr>\n",
       "      <th>610</th>\n",
       "      <td>N°459 1b_6.jpg</td>\n",
       "      <td>52</td>\n",
       "    </tr>\n",
       "    <tr>\n",
       "      <th>611</th>\n",
       "      <td>N°459 1b_7.jpg</td>\n",
       "      <td>52</td>\n",
       "    </tr>\n",
       "    <tr>\n",
       "      <th>612</th>\n",
       "      <td>N°459 1b_8.jpg</td>\n",
       "      <td>52</td>\n",
       "    </tr>\n",
       "    <tr>\n",
       "      <th>613</th>\n",
       "      <td>N°459 1b_9.jpg</td>\n",
       "      <td>52</td>\n",
       "    </tr>\n",
       "  </tbody>\n",
       "</table>\n",
       "<p>614 rows × 2 columns</p>\n",
       "</div>"
      ],
      "text/plain": [
       "               ImageName  label\n",
       "0      N°185 4b-5a_1.jpg      0\n",
       "1    N°185 4b-5a_1_0.jpg      0\n",
       "2    N°185 4b-5a_1_1.jpg      0\n",
       "3    N°185 4b-5a_1_2.jpg      0\n",
       "4    N°185 4b-5a_1_3.jpg      0\n",
       "..                   ...    ...\n",
       "609       N°459 1b_5.jpg     52\n",
       "610       N°459 1b_6.jpg     52\n",
       "611       N°459 1b_7.jpg     52\n",
       "612       N°459 1b_8.jpg     52\n",
       "613       N°459 1b_9.jpg     52\n",
       "\n",
       "[614 rows x 2 columns]"
      ]
     },
     "execution_count": 21,
     "metadata": {},
     "output_type": "execute_result"
    }
   ],
   "source": [
    "t"
   ]
  },
  {
   "cell_type": "code",
   "execution_count": 22,
   "id": "881e735a",
   "metadata": {},
   "outputs": [
    {
     "name": "stdout",
     "output_type": "stream",
     "text": [
      "2.0.3\n"
     ]
    }
   ],
   "source": [
    "print(pd.__version__)\n"
   ]
  },
  {
   "cell_type": "code",
   "execution_count": null,
   "id": "aed0c7c7",
   "metadata": {},
   "outputs": [],
   "source": []
  }
 ],
 "metadata": {
  "kernelspec": {
   "display_name": "Python 3 (ipykernel)",
   "language": "python",
   "name": "python3"
  },
  "language_info": {
   "codemirror_mode": {
    "name": "ipython",
    "version": 3
   },
   "file_extension": ".py",
   "mimetype": "text/x-python",
   "name": "python",
   "nbconvert_exporter": "python",
   "pygments_lexer": "ipython3",
   "version": "3.11.5"
  }
 },
 "nbformat": 4,
 "nbformat_minor": 5
}
